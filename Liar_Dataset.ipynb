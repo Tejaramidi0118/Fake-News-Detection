{
  "cells": [
    {
      "cell_type": "markdown",
      "id": "3f76362a",
      "metadata": {
        "id": "3f76362a"
      },
      "source": [
        "#### Import"
      ]
    },
    {
      "cell_type": "code",
      "execution_count": null,
      "id": "9cb0bcd0",
      "metadata": {
        "id": "9cb0bcd0"
      },
      "outputs": [],
      "source": [
        "# Core & preprocessing\n",
        "import pandas as pd\n",
        "import numpy as np\n",
        "from scipy.sparse import hstack\n",
        "\n",
        "# Feature processing\n",
        "from sklearn.preprocessing import LabelEncoder, OneHotEncoder, MinMaxScaler\n",
        "from sklearn.feature_extraction.text import TfidfVectorizer\n",
        "\n",
        "# Models\n",
        "from sklearn.linear_model import LogisticRegression\n",
        "from sklearn.naive_bayes import MultinomialNB\n",
        "from sklearn.svm import SVC\n",
        "from sklearn.neighbors import KNeighborsClassifier\n",
        "from sklearn.tree import DecisionTreeClassifier\n",
        "from sklearn.ensemble import RandomForestClassifier, AdaBoostClassifier\n",
        "from xgboost import XGBClassifier\n",
        "\n",
        "# Evaluation\n",
        "from sklearn.metrics import accuracy_score, classification_report\n",
        "from sklearn.model_selection import RandomizedSearchCV, GridSearchCV, StratifiedKFold\n"
      ]
    },
    {
      "cell_type": "markdown",
      "id": "9c96aecc",
      "metadata": {
        "id": "9c96aecc"
      },
      "source": [
        "#### Data Preprocessing"
      ]
    },
    {
      "cell_type": "code",
      "execution_count": null,
      "id": "b4525bc9",
      "metadata": {
        "id": "b4525bc9"
      },
      "outputs": [],
      "source": [
        "# Load data\n",
        "columns = [\n",
        "    \"label\", \"statement\", \"subject\", \"speaker\", \"speaker_job\",\n",
        "    \"state_info\", \"party_affiliation\", \"barely_true_counts\", \"false_counts\",\n",
        "    \"half_true_counts\", \"mostly_true_counts\", \"pants_on_fire_counts\", \"context\"\n",
        "]\n",
        "train_df = pd.read_csv(\"train.tsv\", sep='\\t', header=None, names=columns)\n",
        "valid_df = pd.read_csv(\"valid.tsv\", sep='\\t', header=None, names=columns)\n",
        "test_df  = pd.read_csv(\"test.tsv\",  sep='\\t', header=None, names=columns)"
      ]
    },
    {
      "cell_type": "code",
      "execution_count": null,
      "id": "5c499489",
      "metadata": {
        "id": "5c499489"
      },
      "outputs": [],
      "source": [
        "# Encode labels\n",
        "label_encoder = LabelEncoder()\n",
        "y_train = label_encoder.fit_transform(train_df['label'])\n",
        "y_valid = label_encoder.transform(valid_df['label'])\n",
        "y_test  = label_encoder.transform(test_df['label'])"
      ]
    },
    {
      "cell_type": "code",
      "execution_count": null,
      "id": "b37d7d23",
      "metadata": {
        "id": "b37d7d23"
      },
      "outputs": [],
      "source": [
        "# TF-IDF\n",
        "tfidf = TfidfVectorizer(ngram_range=(1,2), max_features=5000)\n",
        "X_train_text = tfidf.fit_transform(train_df['statement'])\n",
        "X_valid_text = tfidf.transform(valid_df['statement'])\n",
        "X_test_text  = tfidf.transform(test_df['statement'])"
      ]
    },
    {
      "cell_type": "code",
      "execution_count": null,
      "id": "ffb7b822",
      "metadata": {
        "id": "ffb7b822"
      },
      "outputs": [],
      "source": [
        "# Metadata (categorical)\n",
        "meta_cols = ['party_affiliation', 'speaker_job']\n",
        "encoder = OneHotEncoder(handle_unknown='ignore')\n",
        "train_meta = encoder.fit_transform(train_df[meta_cols])\n",
        "valid_meta = encoder.transform(valid_df[meta_cols])\n",
        "test_meta  = encoder.transform(test_df[meta_cols])"
      ]
    },
    {
      "cell_type": "code",
      "execution_count": null,
      "id": "512b4f22",
      "metadata": {
        "id": "512b4f22"
      },
      "outputs": [],
      "source": [
        "# Credit history fix\n",
        "credit_cols = [\"pants_on_fire_counts\", \"false_counts\", \"barely_true_counts\", \"half_true_counts\", \"mostly_true_counts\"]\n",
        "for df in [train_df, valid_df, test_df]:\n",
        "    df[credit_cols] = df[credit_cols].fillna(0).astype(int)\n",
        "\n",
        "def correct_credit(row):\n",
        "    counts = row[credit_cols].values.astype(int).copy()\n",
        "    label = row['label']\n",
        "    if label == \"pants-fire\": counts[0] = max(0, counts[0] - 1)\n",
        "    elif label == \"false\": counts[1] = max(0, counts[1] - 1)\n",
        "    elif label == \"barely-true\": counts[2] = max(0, counts[2] - 1)\n",
        "    elif label == \"half-true\": counts[3] = max(0, counts[3] - 1)\n",
        "    elif label == \"mostly-true\": counts[4] = max(0, counts[4] - 1)\n",
        "    return counts\n",
        "\n",
        "train_df['credit_vector'] = train_df.apply(correct_credit, axis=1)\n",
        "valid_df['credit_vector'] = valid_df.apply(correct_credit, axis=1)\n",
        "test_df['credit_vector']  = test_df.apply(correct_credit, axis=1)\n",
        "\n",
        "credit_train = np.stack(train_df['credit_vector'].values).astype(float)\n",
        "credit_valid = np.stack(valid_df['credit_vector'].values).astype(float)\n",
        "credit_test  = np.stack(test_df['credit_vector'].values).astype(float)"
      ]
    },
    {
      "cell_type": "code",
      "execution_count": null,
      "id": "56b1195f",
      "metadata": {
        "id": "56b1195f"
      },
      "outputs": [],
      "source": [
        "scaler = MinMaxScaler()\n",
        "credit_train = scaler.fit_transform(credit_train)\n",
        "credit_valid = scaler.transform(credit_valid)\n",
        "credit_test  = scaler.transform(credit_test)\n",
        "\n",
        "# Final features\n",
        "X_train_ext = hstack([X_train_text, train_meta, credit_train])\n",
        "X_valid_ext = hstack([X_valid_text, valid_meta, credit_valid])\n",
        "X_test_ext  = hstack([X_test_text,  test_meta,  credit_test])\n"
      ]
    },
    {
      "cell_type": "markdown",
      "id": "e4d98d8c",
      "metadata": {
        "id": "e4d98d8c"
      },
      "source": [
        "#### Model Training"
      ]
    },
    {
      "cell_type": "code",
      "execution_count": null,
      "id": "12a38cc7",
      "metadata": {
        "colab": {
          "base_uri": "https://localhost:8080/"
        },
        "id": "12a38cc7",
        "outputId": "af750a0c-b594-44ff-fa25-6e0e4a1b8c6c"
      },
      "outputs": [
        {
          "name": "stdout",
          "output_type": "stream",
          "text": [
            "Logistic Regression:\n",
            " 0.2733644859813084\n",
            "              precision    recall  f1-score   support\n",
            "\n",
            " barely-true       0.22      0.17      0.19       237\n",
            "       false       0.29      0.32      0.31       263\n",
            "   half-true       0.25      0.29      0.27       248\n",
            " mostly-true       0.30      0.31      0.30       251\n",
            "  pants-fire       0.44      0.29      0.35       116\n",
            "        true       0.23      0.26      0.24       169\n",
            "\n",
            "    accuracy                           0.27      1284\n",
            "   macro avg       0.29      0.27      0.28      1284\n",
            "weighted avg       0.28      0.27      0.27      1284\n",
            "\n"
          ]
        }
      ],
      "source": [
        "lr_model = LogisticRegression(max_iter=1000)\n",
        "lr_model.fit(X_train_ext, y_train)\n",
        "val_preds = lr_model.predict(X_valid_ext)\n",
        "print(\"Logistic Regression:\\n\", accuracy_score(y_valid, val_preds))\n",
        "print(classification_report(y_valid, val_preds, target_names=label_encoder.classes_))\n"
      ]
    },
    {
      "cell_type": "code",
      "execution_count": null,
      "id": "a0685e81",
      "metadata": {
        "colab": {
          "base_uri": "https://localhost:8080/"
        },
        "id": "a0685e81",
        "outputId": "2588eb66-fdfa-4bd1-e418-8cdb41ba7c63"
      },
      "outputs": [
        {
          "name": "stdout",
          "output_type": "stream",
          "text": [
            "Naive Bayes:\n",
            " 0.25\n",
            "              precision    recall  f1-score   support\n",
            "\n",
            " barely-true       0.21      0.11      0.14       237\n",
            "       false       0.26      0.38      0.31       263\n",
            "   half-true       0.23      0.37      0.29       248\n",
            " mostly-true       0.28      0.31      0.30       251\n",
            "  pants-fire       0.25      0.01      0.02       116\n",
            "        true       0.23      0.15      0.18       169\n",
            "\n",
            "    accuracy                           0.25      1284\n",
            "   macro avg       0.24      0.22      0.21      1284\n",
            "weighted avg       0.25      0.25      0.23      1284\n",
            "\n"
          ]
        }
      ],
      "source": [
        "nb_model = MultinomialNB()\n",
        "nb_model.fit(X_train_text, y_train)\n",
        "val_preds = nb_model.predict(X_valid_text)\n",
        "print(\"Naive Bayes:\\n\", accuracy_score(y_valid, val_preds))\n",
        "print(classification_report(y_valid, val_preds, target_names=label_encoder.classes_))"
      ]
    },
    {
      "cell_type": "code",
      "execution_count": null,
      "id": "e704dd0a",
      "metadata": {
        "colab": {
          "base_uri": "https://localhost:8080/"
        },
        "id": "e704dd0a",
        "outputId": "24389fa6-43ed-4504-af28-e7eadb3667c7"
      },
      "outputs": [
        {
          "name": "stdout",
          "output_type": "stream",
          "text": [
            "SVM:\n",
            " 0.2772585669781931\n",
            "              precision    recall  f1-score   support\n",
            "\n",
            " barely-true       0.28      0.13      0.18       237\n",
            "       false       0.30      0.38      0.34       263\n",
            "   half-true       0.23      0.33      0.27       248\n",
            " mostly-true       0.26      0.37      0.31       251\n",
            "  pants-fire       0.64      0.24      0.35       116\n",
            "        true       0.25      0.13      0.17       169\n",
            "\n",
            "    accuracy                           0.28      1284\n",
            "   macro avg       0.33      0.26      0.27      1284\n",
            "weighted avg       0.30      0.28      0.27      1284\n",
            "\n"
          ]
        }
      ],
      "source": [
        "svm_model = SVC(kernel='rbf')\n",
        "svm_model.fit(X_train_ext, y_train)\n",
        "val_preds = svm_model.predict(X_valid_ext)\n",
        "print(\"SVM:\\n\", accuracy_score(y_valid, val_preds))\n",
        "print(classification_report(y_valid, val_preds, target_names=label_encoder.classes_))\n"
      ]
    },
    {
      "cell_type": "code",
      "execution_count": null,
      "id": "fb03dccc",
      "metadata": {
        "colab": {
          "base_uri": "https://localhost:8080/"
        },
        "id": "fb03dccc",
        "outputId": "815ee3e8-47ae-40d3-c0ae-03d7d3171489"
      },
      "outputs": [
        {
          "name": "stdout",
          "output_type": "stream",
          "text": [
            "KNN:\n",
            " 0.2235202492211838\n",
            "              precision    recall  f1-score   support\n",
            "\n",
            " barely-true       0.22      0.28      0.25       237\n",
            "       false       0.24      0.24      0.24       263\n",
            "   half-true       0.20      0.22      0.21       248\n",
            " mostly-true       0.23      0.21      0.22       251\n",
            "  pants-fire       0.35      0.25      0.29       116\n",
            "        true       0.16      0.12      0.14       169\n",
            "\n",
            "    accuracy                           0.22      1284\n",
            "   macro avg       0.23      0.22      0.22      1284\n",
            "weighted avg       0.23      0.22      0.22      1284\n",
            "\n"
          ]
        }
      ],
      "source": [
        "knn_model = KNeighborsClassifier(n_neighbors=5)\n",
        "knn_model.fit(X_train_ext, y_train)\n",
        "val_preds = knn_model.predict(X_valid_ext)\n",
        "print(\"KNN:\\n\", accuracy_score(y_valid, val_preds))\n",
        "print(classification_report(y_valid, val_preds, target_names=label_encoder.classes_))"
      ]
    },
    {
      "cell_type": "code",
      "execution_count": null,
      "id": "8bef2c52",
      "metadata": {
        "colab": {
          "base_uri": "https://localhost:8080/"
        },
        "id": "8bef2c52",
        "outputId": "d0b7944b-a78d-43b6-e8ca-b4fc17982221"
      },
      "outputs": [
        {
          "name": "stdout",
          "output_type": "stream",
          "text": [
            "Decision Tree:\n",
            " 0.4462616822429907\n",
            "              precision    recall  f1-score   support\n",
            "\n",
            " barely-true       0.47      0.43      0.45       237\n",
            "       false       0.47      0.48      0.47       263\n",
            "   half-true       0.42      0.44      0.43       248\n",
            " mostly-true       0.47      0.43      0.45       251\n",
            "  pants-fire       0.60      0.53      0.57       116\n",
            "        true       0.33      0.40      0.36       169\n",
            "\n",
            "    accuracy                           0.45      1284\n",
            "   macro avg       0.46      0.45      0.45      1284\n",
            "weighted avg       0.45      0.45      0.45      1284\n",
            "\n"
          ]
        }
      ],
      "source": [
        "dt_model = DecisionTreeClassifier()\n",
        "dt_model.fit(X_train_ext, y_train)\n",
        "val_preds = dt_model.predict(X_valid_ext)\n",
        "print(\"Decision Tree:\\n\", accuracy_score(y_valid, val_preds))\n",
        "print(classification_report(y_valid, val_preds, target_names=label_encoder.classes_))\n"
      ]
    },
    {
      "cell_type": "code",
      "execution_count": null,
      "id": "8114133d",
      "metadata": {
        "colab": {
          "base_uri": "https://localhost:8080/"
        },
        "id": "8114133d",
        "outputId": "0be171fb-235c-4de8-e06d-db232a90b2b8"
      },
      "outputs": [
        {
          "name": "stdout",
          "output_type": "stream",
          "text": [
            "Random Forest:\n",
            " 0.3847352024922118\n",
            "              precision    recall  f1-score   support\n",
            "\n",
            " barely-true       0.43      0.27      0.33       237\n",
            "       false       0.37      0.50      0.43       263\n",
            "   half-true       0.34      0.46      0.39       248\n",
            " mostly-true       0.37      0.43      0.40       251\n",
            "  pants-fire       0.73      0.34      0.47       116\n",
            "        true       0.37      0.22      0.27       169\n",
            "\n",
            "    accuracy                           0.38      1284\n",
            "   macro avg       0.43      0.37      0.38      1284\n",
            "weighted avg       0.41      0.38      0.38      1284\n",
            "\n"
          ]
        }
      ],
      "source": [
        "rf_model = RandomForestClassifier()\n",
        "rf_model.fit(X_train_ext, y_train)\n",
        "val_preds = rf_model.predict(X_valid_ext)\n",
        "print(\"Random Forest:\\n\", accuracy_score(y_valid, val_preds))\n",
        "print(classification_report(y_valid, val_preds, target_names=label_encoder.classes_))\n"
      ]
    },
    {
      "cell_type": "code",
      "execution_count": null,
      "id": "5c776ab9",
      "metadata": {
        "colab": {
          "base_uri": "https://localhost:8080/"
        },
        "id": "5c776ab9",
        "outputId": "39d845f0-af79-4c72-f744-1e0f691815a8"
      },
      "outputs": [
        {
          "name": "stdout",
          "output_type": "stream",
          "text": [
            "AdaBoost:\n",
            " 0.27102803738317754\n",
            "              precision    recall  f1-score   support\n",
            "\n",
            " barely-true       0.00      0.00      0.00       237\n",
            "       false       0.26      0.44      0.33       263\n",
            "   half-true       0.23      0.54      0.32       248\n",
            " mostly-true       0.37      0.23      0.28       251\n",
            "  pants-fire       0.68      0.22      0.33       116\n",
            "        true       0.29      0.08      0.13       169\n",
            "\n",
            "    accuracy                           0.27      1284\n",
            "   macro avg       0.30      0.25      0.23      1284\n",
            "weighted avg       0.27      0.27      0.23      1284\n",
            "\n"
          ]
        },
        {
          "name": "stderr",
          "output_type": "stream",
          "text": [
            "/usr/local/lib/python3.11/dist-packages/sklearn/metrics/_classification.py:1565: UndefinedMetricWarning: Precision is ill-defined and being set to 0.0 in labels with no predicted samples. Use `zero_division` parameter to control this behavior.\n",
            "  _warn_prf(average, modifier, f\"{metric.capitalize()} is\", len(result))\n",
            "/usr/local/lib/python3.11/dist-packages/sklearn/metrics/_classification.py:1565: UndefinedMetricWarning: Precision is ill-defined and being set to 0.0 in labels with no predicted samples. Use `zero_division` parameter to control this behavior.\n",
            "  _warn_prf(average, modifier, f\"{metric.capitalize()} is\", len(result))\n",
            "/usr/local/lib/python3.11/dist-packages/sklearn/metrics/_classification.py:1565: UndefinedMetricWarning: Precision is ill-defined and being set to 0.0 in labels with no predicted samples. Use `zero_division` parameter to control this behavior.\n",
            "  _warn_prf(average, modifier, f\"{metric.capitalize()} is\", len(result))\n"
          ]
        }
      ],
      "source": [
        "ada_model = AdaBoostClassifier()\n",
        "ada_model.fit(X_train_ext, y_train)\n",
        "val_preds = ada_model.predict(X_valid_ext)\n",
        "print(\"AdaBoost:\\n\", accuracy_score(y_valid, val_preds))\n",
        "print(classification_report(y_valid, val_preds, target_names=label_encoder.classes_))\n"
      ]
    },
    {
      "cell_type": "code",
      "execution_count": null,
      "id": "b951c105",
      "metadata": {
        "colab": {
          "base_uri": "https://localhost:8080/"
        },
        "id": "b951c105",
        "outputId": "7432076f-de0f-4f9b-da34-33cd779d5d0c"
      },
      "outputs": [
        {
          "name": "stdout",
          "output_type": "stream",
          "text": [
            "XGBoost:\n",
            " 0.3956386292834891\n",
            "              precision    recall  f1-score   support\n",
            "\n",
            " barely-true       0.39      0.28      0.33       237\n",
            "       false       0.39      0.43      0.41       263\n",
            "   half-true       0.38      0.47      0.42       248\n",
            " mostly-true       0.39      0.45      0.42       251\n",
            "  pants-fire       0.66      0.39      0.49       116\n",
            "        true       0.35      0.33      0.34       169\n",
            "\n",
            "    accuracy                           0.40      1284\n",
            "   macro avg       0.43      0.39      0.40      1284\n",
            "weighted avg       0.41      0.40      0.39      1284\n",
            "\n"
          ]
        }
      ],
      "source": [
        "xgb_model = XGBClassifier()\n",
        "xgb_model.fit(X_train_ext, y_train)\n",
        "val_preds = xgb_model.predict(X_valid_ext)\n",
        "print(\"XGBoost:\\n\", accuracy_score(y_valid, val_preds))\n",
        "print(classification_report(y_valid, val_preds, target_names=label_encoder.classes_))\n"
      ]
    },
    {
      "cell_type": "markdown",
      "id": "b429c8ff",
      "metadata": {
        "id": "b429c8ff"
      },
      "source": [
        "#### Hyper Parameter Tuning"
      ]
    },
    {
      "cell_type": "code",
      "execution_count": null,
      "id": "5a37933c",
      "metadata": {
        "colab": {
          "background_save": true
        },
        "id": "5a37933c",
        "outputId": "1fba055c-9fb4-492c-b235-246c5751a2f4"
      },
      "outputs": [
        {
          "name": "stderr",
          "output_type": "stream",
          "text": [
            "/usr/local/lib/python3.11/dist-packages/sklearn/model_selection/_search.py:317: UserWarning: The total space of parameters 8 is smaller than n_iter=20. Running 8 iterations. For exhaustive searches, use GridSearchCV.\n",
            "  warnings.warn(\n"
          ]
        },
        {
          "name": "stdout",
          "output_type": "stream",
          "text": [
            "🔍 Logistic Regression Best Params: {'solver': 'liblinear', 'penalty': 'l2', 'C': 1}\n",
            "Validation Accuracy: 0.2803738317757009\n"
          ]
        }
      ],
      "source": [
        "from sklearn.linear_model import LogisticRegression\n",
        "from sklearn.model_selection import RandomizedSearchCV\n",
        "import numpy as np\n",
        "\n",
        "# Define parameter grid\n",
        "lr_params = {\n",
        "    'C': [0.01, 0.1, 1, 10],\n",
        "    'penalty': ['l1', 'l2'],\n",
        "    'solver': ['liblinear']\n",
        "}\n",
        "\n",
        "# Some combinations are invalid → filter them with error_score='raise' for clarity\n",
        "lr_random = RandomizedSearchCV(\n",
        "    estimator=LogisticRegression(max_iter=2000),\n",
        "    param_distributions=lr_params,\n",
        "    n_iter=20,\n",
        "    cv=5,\n",
        "    scoring='accuracy',\n",
        "    n_jobs=-1,\n",
        "    random_state=42,\n",
        "    error_score='raise'  # this will show exact issues if invalid params are picked\n",
        ")\n",
        "\n",
        "# Fit\n",
        "lr_random.fit(X_train_ext, y_train)\n",
        "\n",
        "# Output results\n",
        "print(\"🔍 Logistic Regression Best Params:\", lr_random.best_params_)\n",
        "print(\"Validation Accuracy:\", lr_random.score(X_valid_ext, y_valid))"
      ]
    },
    {
      "cell_type": "code",
      "execution_count": null,
      "id": "d8839090",
      "metadata": {
        "colab": {
          "base_uri": "https://localhost:8080/"
        },
        "id": "d8839090",
        "outputId": "d4952805-0227-4ffa-b6b0-1e4297605411"
      },
      "outputs": [
        {
          "name": "stdout",
          "output_type": "stream",
          "text": [
            "🔍 Naive Bayes Best Params: {'fit_prior': False, 'alpha': np.float64(2.113157894736842)}\n",
            "Validation Accuracy: 0.25934579439252337\n"
          ]
        }
      ],
      "source": [
        "nb_params = {\n",
        "    'alpha': np.linspace(0.01, 10.0, 20),\n",
        "    'fit_prior': [True, False]\n",
        "}\n",
        "\n",
        "nb_random = RandomizedSearchCV(MultinomialNB(), nb_params, n_iter=20, cv=5, scoring='accuracy', n_jobs=-1, random_state=42)\n",
        "nb_random.fit(X_train_text, y_train)\n",
        "\n",
        "print(\"🔍 Naive Bayes Best Params:\", nb_random.best_params_)\n",
        "print(\"Validation Accuracy:\", nb_random.score(X_valid_text, y_valid))\n"
      ]
    },
    {
      "cell_type": "code",
      "execution_count": null,
      "id": "4d2809e5",
      "metadata": {
        "colab": {
          "base_uri": "https://localhost:8080/"
        },
        "id": "4d2809e5",
        "outputId": "8eefe24e-5e35-45d9-93cc-88a226da123f"
      },
      "outputs": [
        {
          "output_type": "stream",
          "name": "stdout",
          "text": [
            "🔍 SVC Best Params: {'kernel': 'rbf', 'gamma': 'scale', 'C': 1}\n",
            "Validation Accuracy: 0.2749221183800623\n"
          ]
        }
      ],
      "source": [
        "from sklearn.svm import SVC\n",
        "from sklearn.model_selection import RandomizedSearchCV\n",
        "\n",
        "svm_params = {\n",
        "    'C': [0.01, 0.1, 1, 10],\n",
        "    'kernel': ['linear', 'rbf', 'poly'],\n",
        "    'gamma': ['scale', 'auto']\n",
        "}\n",
        "\n",
        "svm_random = RandomizedSearchCV(SVC(), svm_params, n_iter=10, cv=5, scoring='accuracy', n_jobs=-1, random_state=42)\n",
        "svm_random.fit(X_train_ext, y_train)\n",
        "\n",
        "print(\"🔍 SVC Best Params:\", svm_random.best_params_)\n",
        "print(\"Validation Accuracy:\", svm_random.score(X_valid_ext, y_valid))"
      ]
    },
    {
      "cell_type": "code",
      "execution_count": null,
      "id": "18c2b922",
      "metadata": {
        "colab": {
          "base_uri": "https://localhost:8080/"
        },
        "id": "18c2b922",
        "outputId": "58c0d5ba-80b7-40e3-8230-09127cf6b4ca"
      },
      "outputs": [
        {
          "name": "stdout",
          "output_type": "stream",
          "text": [
            "🔍 KNN Best Params: {'weights': 'distance', 'n_neighbors': 27, 'metric': 'minkowski'}\n",
            "Validation Accuracy: 0.26791277258566976\n"
          ]
        }
      ],
      "source": [
        "knn_params = {\n",
        "    'n_neighbors': list(range(3, 30, 2)),\n",
        "    'weights': ['uniform', 'distance'],\n",
        "    'metric': ['euclidean', 'manhattan', 'minkowski']\n",
        "}\n",
        "\n",
        "knn_random = RandomizedSearchCV(KNeighborsClassifier(), knn_params, n_iter=20, cv=5, scoring='accuracy', n_jobs=-1, random_state=42)\n",
        "knn_random.fit(X_train_ext, y_train)\n",
        "\n",
        "print(\"🔍 KNN Best Params:\", knn_random.best_params_)\n",
        "print(\"Validation Accuracy:\", knn_random.score(X_valid_ext, y_valid))\n"
      ]
    },
    {
      "cell_type": "code",
      "execution_count": null,
      "id": "a5b5d78d",
      "metadata": {
        "colab": {
          "base_uri": "https://localhost:8080/"
        },
        "id": "a5b5d78d",
        "outputId": "9e9edc02-a8e5-4432-8dc5-dfb4b28e74b0"
      },
      "outputs": [
        {
          "name": "stdout",
          "output_type": "stream",
          "text": [
            "🔍 Decision Tree Best Params: {'min_samples_split': 2, 'min_samples_leaf': 1, 'max_depth': 50, 'criterion': 'log_loss'}\n",
            "Validation Accuracy: 0.4719626168224299\n"
          ]
        }
      ],
      "source": [
        "dt_params = {\n",
        "    'max_depth': [10, 20, 30, 40, 50, None],\n",
        "    'min_samples_split': [2, 5, 10, 20],\n",
        "    'min_samples_leaf': [1, 2, 4, 10],\n",
        "    'criterion': ['gini', 'entropy', 'log_loss']\n",
        "}\n",
        "\n",
        "dt_random = RandomizedSearchCV(DecisionTreeClassifier(random_state=42), dt_params, n_iter=20, cv=5, scoring='accuracy', n_jobs=-1, random_state=42)\n",
        "dt_random.fit(X_train_ext, y_train)\n",
        "\n",
        "print(\"🔍 Decision Tree Best Params:\", dt_random.best_params_)\n",
        "print(\"Validation Accuracy:\", dt_random.score(X_valid_ext, y_valid))\n"
      ]
    },
    {
      "cell_type": "code",
      "execution_count": null,
      "id": "a44126b6",
      "metadata": {
        "colab": {
          "base_uri": "https://localhost:8080/"
        },
        "id": "a44126b6",
        "outputId": "15d12457-ddca-4056-e6e4-6bbd3ab3ab15"
      },
      "outputs": [
        {
          "name": "stdout",
          "output_type": "stream",
          "text": [
            "🔍 Random Forest Best Params: {'n_estimators': 100, 'min_samples_split': 2, 'min_samples_leaf': 1, 'max_depth': None, 'bootstrap': True}\n",
            "Validation Accuracy: 0.3808411214953271\n"
          ]
        }
      ],
      "source": [
        "rf_params = {\n",
        "    'n_estimators': [100, 200, 300],\n",
        "    'max_depth': [None, 10, 20],\n",
        "    'min_samples_split': [2, 5],\n",
        "    'min_samples_leaf': [1, 2],\n",
        "    'bootstrap': [True, False]\n",
        "}\n",
        "\n",
        "rf_random = RandomizedSearchCV(RandomForestClassifier(random_state=42), rf_params, n_iter=30, cv=5, scoring='accuracy', n_jobs=-1, random_state=42)\n",
        "rf_random.fit(X_train_ext, y_train)\n",
        "\n",
        "print(\"🔍 Random Forest Best Params:\", rf_random.best_params_)\n",
        "print(\"Validation Accuracy:\", rf_random.score(X_valid_ext, y_valid))\n"
      ]
    },
    {
      "cell_type": "code",
      "execution_count": null,
      "id": "33d49899",
      "metadata": {
        "colab": {
          "base_uri": "https://localhost:8080/"
        },
        "id": "33d49899",
        "outputId": "48dcb636-a3f9-45af-995e-4dd30d713a8a"
      },
      "outputs": [
        {
          "name": "stderr",
          "output_type": "stream",
          "text": [
            "/usr/local/lib/python3.11/dist-packages/sklearn/model_selection/_search.py:317: UserWarning: The total space of parameters 18 is smaller than n_iter=20. Running 18 iterations. For exhaustive searches, use GridSearchCV.\n",
            "  warnings.warn(\n",
            "/usr/local/lib/python3.11/dist-packages/sklearn/model_selection/_validation.py:528: FitFailedWarning: \n",
            "45 fits failed out of a total of 90.\n",
            "The score on these train-test partitions for these parameters will be set to nan.\n",
            "If these failures are not expected, you can try to debug them by setting error_score='raise'.\n",
            "\n",
            "Below are more details about the failures:\n",
            "--------------------------------------------------------------------------------\n",
            "45 fits failed with the following error:\n",
            "Traceback (most recent call last):\n",
            "  File \"/usr/local/lib/python3.11/dist-packages/sklearn/model_selection/_validation.py\", line 866, in _fit_and_score\n",
            "    estimator.fit(X_train, y_train, **fit_params)\n",
            "  File \"/usr/local/lib/python3.11/dist-packages/sklearn/base.py\", line 1382, in wrapper\n",
            "    estimator._validate_params()\n",
            "  File \"/usr/local/lib/python3.11/dist-packages/sklearn/base.py\", line 436, in _validate_params\n",
            "    validate_parameter_constraints(\n",
            "  File \"/usr/local/lib/python3.11/dist-packages/sklearn/utils/_param_validation.py\", line 98, in validate_parameter_constraints\n",
            "    raise InvalidParameterError(\n",
            "sklearn.utils._param_validation.InvalidParameterError: The 'algorithm' parameter of AdaBoostClassifier must be a str among {'SAMME'}. Got 'SAMME.R' instead.\n",
            "\n",
            "  warnings.warn(some_fits_failed_message, FitFailedWarning)\n",
            "/usr/local/lib/python3.11/dist-packages/sklearn/model_selection/_search.py:1108: UserWarning: One or more of the test scores are non-finite: [0.21904297 0.21904297 0.21904297 0.21875    0.22529297 0.23476563\n",
            " 0.25849609 0.26279297 0.26416016        nan        nan        nan\n",
            "        nan        nan        nan        nan        nan        nan]\n",
            "  warnings.warn(\n",
            "/usr/local/lib/python3.11/dist-packages/sklearn/ensemble/_weight_boosting.py:519: FutureWarning: The parameter 'algorithm' is deprecated in 1.6 and has no effect. It will be removed in version 1.8.\n",
            "  warnings.warn(\n"
          ]
        },
        {
          "name": "stdout",
          "output_type": "stream",
          "text": [
            "🔍 AdaBoost Best Params: {'n_estimators': 200, 'learning_rate': 1.0, 'algorithm': 'SAMME'}\n",
            "Validation Accuracy: 0.29361370716510904\n"
          ]
        }
      ],
      "source": [
        "ada_params = {\n",
        "    'n_estimators': [50, 100, 200],\n",
        "    'learning_rate': [0.01, 0.1, 1.0],\n",
        "    'algorithm': ['SAMME', 'SAMME.R']\n",
        "}\n",
        "\n",
        "ada_random = RandomizedSearchCV(AdaBoostClassifier(random_state=42), ada_params, n_iter=20, cv=5, scoring='accuracy', n_jobs=-1, random_state=42)\n",
        "ada_random.fit(X_train_ext, y_train)\n",
        "\n",
        "print(\"🔍 AdaBoost Best Params:\", ada_random.best_params_)\n",
        "print(\"Validation Accuracy:\", ada_random.score(X_valid_ext, y_valid))\n"
      ]
    },
    {
      "cell_type": "code",
      "execution_count": null,
      "id": "09c4664c",
      "metadata": {
        "colab": {
          "background_save": true
        },
        "id": "09c4664c",
        "outputId": "f8b2e4b1-e760-463b-eccb-6d76713f3169"
      },
      "outputs": [
        {
          "name": "stderr",
          "output_type": "stream",
          "text": [
            "/usr/local/lib/python3.11/dist-packages/xgboost/core.py:158: UserWarning: [03:05:47] WARNING: /workspace/src/learner.cc:740: \n",
            "Parameters: { \"use_label_encoder\" } are not used.\n",
            "\n",
            "  warnings.warn(smsg, UserWarning)\n"
          ]
        },
        {
          "name": "stdout",
          "output_type": "stream",
          "text": [
            "🔍 XGBoost Best Params: {'subsample': 1.0, 'n_estimators': 200, 'max_depth': 10, 'learning_rate': 0.1, 'colsample_bytree': 1.0}\n",
            "Validation Accuracy: 0.43613707165109034\n"
          ]
        }
      ],
      "source": [
        "xgb_params = {\n",
        "    'n_estimators': [100, 200],\n",
        "    'learning_rate': [0.01, 0.1, 0.3],\n",
        "    'max_depth': [3, 6, 10],\n",
        "    'subsample': [0.7, 1.0],\n",
        "    'colsample_bytree': [0.7, 1.0]\n",
        "}\n",
        "\n",
        "xgb_random = RandomizedSearchCV(\n",
        "    XGBClassifier(use_label_encoder=False, objective='multi:softmax', num_class=6, eval_metric='mlogloss', random_state=42),\n",
        "    xgb_params,\n",
        "    n_iter=30,\n",
        "    cv=5,\n",
        "    scoring='accuracy',\n",
        "    n_jobs=-1,\n",
        "    random_state=42\n",
        ")\n",
        "\n",
        "xgb_random.fit(X_train_ext, y_train)\n",
        "print(\"🔍 XGBoost Best Params:\", xgb_random.best_params_)\n",
        "print(\"Validation Accuracy:\", xgb_random.score(X_valid_ext, y_valid))\n"
      ]
    },
    {
      "cell_type": "code",
      "execution_count": null,
      "id": "fd32dade",
      "metadata": {
        "id": "fd32dade"
      },
      "outputs": [],
      "source": []
    }
  ],
  "metadata": {
    "accelerator": "GPU",
    "colab": {
      "collapsed_sections": [
        "e4d98d8c"
      ],
      "gpuType": "T4",
      "provenance": []
    },
    "kernelspec": {
      "display_name": "Python 3",
      "name": "python3"
    },
    "language_info": {
      "codemirror_mode": {
        "name": "ipython",
        "version": 3
      },
      "file_extension": ".py",
      "mimetype": "text/x-python",
      "name": "python",
      "nbconvert_exporter": "python",
      "pygments_lexer": "ipython3",
      "version": "3.12.7"
    }
  },
  "nbformat": 4,
  "nbformat_minor": 5
}